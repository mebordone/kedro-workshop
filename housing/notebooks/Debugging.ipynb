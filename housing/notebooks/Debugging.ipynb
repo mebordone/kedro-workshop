{
 "cells": [
  {
   "cell_type": "code",
   "execution_count": 1,
   "id": "ffdac37a-eb96-4cd3-a4aa-511f030686ee",
   "metadata": {},
   "outputs": [
    {
     "name": "stdout",
     "output_type": "stream",
     "text": [
      "The kedro.ipython extension is already loaded. To reload it, use:\n",
      "  %reload_ext kedro.ipython\n"
     ]
    }
   ],
   "source": [
    " %load_ext kedro.ipython"
   ]
  },
  {
   "cell_type": "code",
   "execution_count": 2,
   "id": "97c6aa8b-9e7e-4e58-9d8f-56b4ec35eea2",
   "metadata": {},
   "outputs": [
    {
     "data": {
      "text/html": [
       "<pre style=\"white-space:pre;overflow-x:auto;line-height:normal;font-family:Menlo,'DejaVu Sans Mono',consolas,'Courier New',monospace\"></pre>\n"
      ],
      "text/plain": []
     },
     "metadata": {},
     "output_type": "display_data"
    },
    {
     "data": {
      "text/plain": [
       "\n",
       "\u001b[1m[\u001b[0m\n",
       "    \u001b[32m'housing'\u001b[0m,\n",
       "    \u001b[32m'preprocessed_housing'\u001b[0m,\n",
       "    \u001b[32m'final_model'\u001b[0m,\n",
       "    \u001b[32m'metrics'\u001b[0m,\n",
       "    \u001b[32m'parameters'\u001b[0m,\n",
       "    \u001b[32m'params:model_options'\u001b[0m,\n",
       "    \u001b[32m'params:model_options.test_size'\u001b[0m,\n",
       "    \u001b[32m'params:model_options.random_state'\u001b[0m,\n",
       "    \u001b[32m'params:model_options.features'\u001b[0m\n",
       "\u001b[1m]\u001b[0m"
      ]
     },
     "execution_count": 2,
     "metadata": {},
     "output_type": "execute_result"
    }
   ],
   "source": [
    "catalog.list()"
   ]
  },
  {
   "cell_type": "code",
   "execution_count": 3,
   "id": "533d5243-867a-4169-b567-a9ea3cd10956",
   "metadata": {},
   "outputs": [
    {
     "data": {
      "text/html": [
       "<pre style=\"white-space:pre;overflow-x:auto;line-height:normal;font-family:Menlo,'DejaVu Sans Mono',consolas,'Courier New',monospace\"><span style=\"color: #7fbfbf; text-decoration-color: #7fbfbf\">[07/10/24 15:35:32] </span><span style=\"color: #000080; text-decoration-color: #000080\">INFO    </span> Loading data from <span style=\"color: #ff8700; text-decoration-color: #ff8700\">housing</span> <span style=\"font-weight: bold\">(</span>CSVDataset<span style=\"font-weight: bold\">)</span><span style=\"color: #808000; text-decoration-color: #808000\">...</span>                          <a href=\"file:///home/lucia/.conda/envs/kedro/lib/python3.11/site-packages/kedro/io/data_catalog.py\" target=\"_blank\"><span style=\"color: #7f7f7f; text-decoration-color: #7f7f7f\">data_catalog.py</span></a><span style=\"color: #7f7f7f; text-decoration-color: #7f7f7f\">:</span><a href=\"file:///home/lucia/.conda/envs/kedro/lib/python3.11/site-packages/kedro/io/data_catalog.py#508\" target=\"_blank\"><span style=\"color: #7f7f7f; text-decoration-color: #7f7f7f\">508</span></a>\n",
       "</pre>\n"
      ],
      "text/plain": [
       "\u001b[2;36m[07/10/24 15:35:32]\u001b[0m\u001b[2;36m \u001b[0m\u001b[34mINFO    \u001b[0m Loading data from \u001b[38;5;208mhousing\u001b[0m \u001b[1m(\u001b[0mCSVDataset\u001b[1m)\u001b[0m\u001b[33m...\u001b[0m                          \u001b]8;id=706666;file:///home/lucia/.conda/envs/kedro/lib/python3.11/site-packages/kedro/io/data_catalog.py\u001b\\\u001b[2mdata_catalog.py\u001b[0m\u001b]8;;\u001b\\\u001b[2m:\u001b[0m\u001b]8;id=15783;file:///home/lucia/.conda/envs/kedro/lib/python3.11/site-packages/kedro/io/data_catalog.py#508\u001b\\\u001b[2m508\u001b[0m\u001b]8;;\u001b\\\n"
      ]
     },
     "metadata": {},
     "output_type": "display_data"
    }
   ],
   "source": [
    "housing = catalog.load('housing')"
   ]
  },
  {
   "cell_type": "code",
   "execution_count": 4,
   "id": "aab510cf-1dcd-431c-8a1e-9b65558c47b1",
   "metadata": {},
   "outputs": [
    {
     "data": {
      "text/html": [
       "<pre style=\"white-space:pre;overflow-x:auto;line-height:normal;font-family:Menlo,'DejaVu Sans Mono',consolas,'Courier New',monospace\"></pre>\n"
      ],
      "text/plain": []
     },
     "metadata": {},
     "output_type": "display_data"
    },
    {
     "data": {
      "text/html": [
       "<div>\n",
       "<style scoped>\n",
       "    .dataframe tbody tr th:only-of-type {\n",
       "        vertical-align: middle;\n",
       "    }\n",
       "\n",
       "    .dataframe tbody tr th {\n",
       "        vertical-align: top;\n",
       "    }\n",
       "\n",
       "    .dataframe thead th {\n",
       "        text-align: right;\n",
       "    }\n",
       "</style>\n",
       "<table border=\"1\" class=\"dataframe\">\n",
       "  <thead>\n",
       "    <tr style=\"text-align: right;\">\n",
       "      <th></th>\n",
       "      <th>longitude</th>\n",
       "      <th>latitude</th>\n",
       "      <th>housing_median_age</th>\n",
       "      <th>total_rooms</th>\n",
       "      <th>total_bedrooms</th>\n",
       "      <th>population</th>\n",
       "      <th>households</th>\n",
       "      <th>median_income</th>\n",
       "      <th>median_house_value</th>\n",
       "      <th>ocean_proximity</th>\n",
       "    </tr>\n",
       "  </thead>\n",
       "  <tbody>\n",
       "    <tr>\n",
       "      <th>0</th>\n",
       "      <td>-122.23</td>\n",
       "      <td>37.88</td>\n",
       "      <td>41.0</td>\n",
       "      <td>880.0</td>\n",
       "      <td>129.0</td>\n",
       "      <td>322.0</td>\n",
       "      <td>126.0</td>\n",
       "      <td>8.3252</td>\n",
       "      <td>452600.0</td>\n",
       "      <td>NEAR BAY</td>\n",
       "    </tr>\n",
       "    <tr>\n",
       "      <th>1</th>\n",
       "      <td>-122.22</td>\n",
       "      <td>37.86</td>\n",
       "      <td>21.0</td>\n",
       "      <td>7099.0</td>\n",
       "      <td>1106.0</td>\n",
       "      <td>2401.0</td>\n",
       "      <td>1138.0</td>\n",
       "      <td>8.3014</td>\n",
       "      <td>358500.0</td>\n",
       "      <td>NEAR BAY</td>\n",
       "    </tr>\n",
       "    <tr>\n",
       "      <th>2</th>\n",
       "      <td>-122.24</td>\n",
       "      <td>37.85</td>\n",
       "      <td>52.0</td>\n",
       "      <td>1467.0</td>\n",
       "      <td>190.0</td>\n",
       "      <td>496.0</td>\n",
       "      <td>177.0</td>\n",
       "      <td>7.2574</td>\n",
       "      <td>352100.0</td>\n",
       "      <td>NEAR BAY</td>\n",
       "    </tr>\n",
       "    <tr>\n",
       "      <th>3</th>\n",
       "      <td>-122.25</td>\n",
       "      <td>37.85</td>\n",
       "      <td>52.0</td>\n",
       "      <td>1274.0</td>\n",
       "      <td>235.0</td>\n",
       "      <td>558.0</td>\n",
       "      <td>219.0</td>\n",
       "      <td>5.6431</td>\n",
       "      <td>341300.0</td>\n",
       "      <td>NEAR BAY</td>\n",
       "    </tr>\n",
       "    <tr>\n",
       "      <th>4</th>\n",
       "      <td>-122.25</td>\n",
       "      <td>37.85</td>\n",
       "      <td>52.0</td>\n",
       "      <td>1627.0</td>\n",
       "      <td>280.0</td>\n",
       "      <td>565.0</td>\n",
       "      <td>259.0</td>\n",
       "      <td>3.8462</td>\n",
       "      <td>342200.0</td>\n",
       "      <td>NEAR BAY</td>\n",
       "    </tr>\n",
       "    <tr>\n",
       "      <th>...</th>\n",
       "      <td>...</td>\n",
       "      <td>...</td>\n",
       "      <td>...</td>\n",
       "      <td>...</td>\n",
       "      <td>...</td>\n",
       "      <td>...</td>\n",
       "      <td>...</td>\n",
       "      <td>...</td>\n",
       "      <td>...</td>\n",
       "      <td>...</td>\n",
       "    </tr>\n",
       "    <tr>\n",
       "      <th>20635</th>\n",
       "      <td>-121.09</td>\n",
       "      <td>39.48</td>\n",
       "      <td>25.0</td>\n",
       "      <td>1665.0</td>\n",
       "      <td>374.0</td>\n",
       "      <td>845.0</td>\n",
       "      <td>330.0</td>\n",
       "      <td>1.5603</td>\n",
       "      <td>78100.0</td>\n",
       "      <td>INLAND</td>\n",
       "    </tr>\n",
       "    <tr>\n",
       "      <th>20636</th>\n",
       "      <td>-121.21</td>\n",
       "      <td>39.49</td>\n",
       "      <td>18.0</td>\n",
       "      <td>697.0</td>\n",
       "      <td>150.0</td>\n",
       "      <td>356.0</td>\n",
       "      <td>114.0</td>\n",
       "      <td>2.5568</td>\n",
       "      <td>77100.0</td>\n",
       "      <td>INLAND</td>\n",
       "    </tr>\n",
       "    <tr>\n",
       "      <th>20637</th>\n",
       "      <td>-121.22</td>\n",
       "      <td>39.43</td>\n",
       "      <td>17.0</td>\n",
       "      <td>2254.0</td>\n",
       "      <td>485.0</td>\n",
       "      <td>1007.0</td>\n",
       "      <td>433.0</td>\n",
       "      <td>1.7000</td>\n",
       "      <td>92300.0</td>\n",
       "      <td>INLAND</td>\n",
       "    </tr>\n",
       "    <tr>\n",
       "      <th>20638</th>\n",
       "      <td>-121.32</td>\n",
       "      <td>39.43</td>\n",
       "      <td>18.0</td>\n",
       "      <td>1860.0</td>\n",
       "      <td>409.0</td>\n",
       "      <td>741.0</td>\n",
       "      <td>349.0</td>\n",
       "      <td>1.8672</td>\n",
       "      <td>84700.0</td>\n",
       "      <td>INLAND</td>\n",
       "    </tr>\n",
       "    <tr>\n",
       "      <th>20639</th>\n",
       "      <td>-121.24</td>\n",
       "      <td>39.37</td>\n",
       "      <td>16.0</td>\n",
       "      <td>2785.0</td>\n",
       "      <td>616.0</td>\n",
       "      <td>1387.0</td>\n",
       "      <td>530.0</td>\n",
       "      <td>2.3886</td>\n",
       "      <td>89400.0</td>\n",
       "      <td>INLAND</td>\n",
       "    </tr>\n",
       "  </tbody>\n",
       "</table>\n",
       "<p>20640 rows × 10 columns</p>\n",
       "</div>"
      ],
      "text/plain": [
       "\n",
       "       longitude  latitude  housing_median_age  total_rooms  total_bedrooms  \\\n",
       "\u001b[1;36m0\u001b[0m        \u001b[1;36m-122.23\u001b[0m     \u001b[1;36m37.88\u001b[0m                \u001b[1;36m41.0\u001b[0m        \u001b[1;36m880.0\u001b[0m           \u001b[1;36m129.0\u001b[0m   \n",
       "\u001b[1;36m1\u001b[0m        \u001b[1;36m-122.22\u001b[0m     \u001b[1;36m37.86\u001b[0m                \u001b[1;36m21.0\u001b[0m       \u001b[1;36m7099.0\u001b[0m          \u001b[1;36m1106.0\u001b[0m   \n",
       "\u001b[1;36m2\u001b[0m        \u001b[1;36m-122.24\u001b[0m     \u001b[1;36m37.85\u001b[0m                \u001b[1;36m52.0\u001b[0m       \u001b[1;36m1467.0\u001b[0m           \u001b[1;36m190.0\u001b[0m   \n",
       "\u001b[1;36m3\u001b[0m        \u001b[1;36m-122.25\u001b[0m     \u001b[1;36m37.85\u001b[0m                \u001b[1;36m52.0\u001b[0m       \u001b[1;36m1274.0\u001b[0m           \u001b[1;36m235.0\u001b[0m   \n",
       "\u001b[1;36m4\u001b[0m        \u001b[1;36m-122.25\u001b[0m     \u001b[1;36m37.85\u001b[0m                \u001b[1;36m52.0\u001b[0m       \u001b[1;36m1627.0\u001b[0m           \u001b[1;36m280.0\u001b[0m   \n",
       "\u001b[33m...\u001b[0m          \u001b[33m...\u001b[0m       \u001b[33m...\u001b[0m                 \u001b[33m...\u001b[0m          \u001b[33m...\u001b[0m             \u001b[33m...\u001b[0m   \n",
       "\u001b[1;36m20635\u001b[0m    \u001b[1;36m-121.09\u001b[0m     \u001b[1;36m39.48\u001b[0m                \u001b[1;36m25.0\u001b[0m       \u001b[1;36m1665.0\u001b[0m           \u001b[1;36m374.0\u001b[0m   \n",
       "\u001b[1;36m20636\u001b[0m    \u001b[1;36m-121.21\u001b[0m     \u001b[1;36m39.49\u001b[0m                \u001b[1;36m18.0\u001b[0m        \u001b[1;36m697.0\u001b[0m           \u001b[1;36m150.0\u001b[0m   \n",
       "\u001b[1;36m20637\u001b[0m    \u001b[1;36m-121.22\u001b[0m     \u001b[1;36m39.43\u001b[0m                \u001b[1;36m17.0\u001b[0m       \u001b[1;36m2254.0\u001b[0m           \u001b[1;36m485.0\u001b[0m   \n",
       "\u001b[1;36m20638\u001b[0m    \u001b[1;36m-121.32\u001b[0m     \u001b[1;36m39.43\u001b[0m                \u001b[1;36m18.0\u001b[0m       \u001b[1;36m1860.0\u001b[0m           \u001b[1;36m409.0\u001b[0m   \n",
       "\u001b[1;36m20639\u001b[0m    \u001b[1;36m-121.24\u001b[0m     \u001b[1;36m39.37\u001b[0m                \u001b[1;36m16.0\u001b[0m       \u001b[1;36m2785.0\u001b[0m           \u001b[1;36m616.0\u001b[0m   \n",
       "\n",
       "       population  households  median_income  median_house_value  \\\n",
       "\u001b[1;36m0\u001b[0m           \u001b[1;36m322.0\u001b[0m       \u001b[1;36m126.0\u001b[0m         \u001b[1;36m8.3252\u001b[0m            \u001b[1;36m452600.0\u001b[0m   \n",
       "\u001b[1;36m1\u001b[0m          \u001b[1;36m2401.0\u001b[0m      \u001b[1;36m1138.0\u001b[0m         \u001b[1;36m8.3014\u001b[0m            \u001b[1;36m358500.0\u001b[0m   \n",
       "\u001b[1;36m2\u001b[0m           \u001b[1;36m496.0\u001b[0m       \u001b[1;36m177.0\u001b[0m         \u001b[1;36m7.2574\u001b[0m            \u001b[1;36m352100.0\u001b[0m   \n",
       "\u001b[1;36m3\u001b[0m           \u001b[1;36m558.0\u001b[0m       \u001b[1;36m219.0\u001b[0m         \u001b[1;36m5.6431\u001b[0m            \u001b[1;36m341300.0\u001b[0m   \n",
       "\u001b[1;36m4\u001b[0m           \u001b[1;36m565.0\u001b[0m       \u001b[1;36m259.0\u001b[0m         \u001b[1;36m3.8462\u001b[0m            \u001b[1;36m342200.0\u001b[0m   \n",
       "\u001b[33m...\u001b[0m           \u001b[33m...\u001b[0m         \u001b[33m...\u001b[0m            \u001b[33m...\u001b[0m                 \u001b[33m...\u001b[0m   \n",
       "\u001b[1;36m20635\u001b[0m       \u001b[1;36m845.0\u001b[0m       \u001b[1;36m330.0\u001b[0m         \u001b[1;36m1.5603\u001b[0m             \u001b[1;36m78100.0\u001b[0m   \n",
       "\u001b[1;36m20636\u001b[0m       \u001b[1;36m356.0\u001b[0m       \u001b[1;36m114.0\u001b[0m         \u001b[1;36m2.5568\u001b[0m             \u001b[1;36m77100.0\u001b[0m   \n",
       "\u001b[1;36m20637\u001b[0m      \u001b[1;36m1007.0\u001b[0m       \u001b[1;36m433.0\u001b[0m         \u001b[1;36m1.7000\u001b[0m             \u001b[1;36m92300.0\u001b[0m   \n",
       "\u001b[1;36m20638\u001b[0m       \u001b[1;36m741.0\u001b[0m       \u001b[1;36m349.0\u001b[0m         \u001b[1;36m1.8672\u001b[0m             \u001b[1;36m84700.0\u001b[0m   \n",
       "\u001b[1;36m20639\u001b[0m      \u001b[1;36m1387.0\u001b[0m       \u001b[1;36m530.0\u001b[0m         \u001b[1;36m2.3886\u001b[0m             \u001b[1;36m89400.0\u001b[0m   \n",
       "\n",
       "      ocean_proximity  \n",
       "\u001b[1;36m0\u001b[0m            NEAR BAY  \n",
       "\u001b[1;36m1\u001b[0m            NEAR BAY  \n",
       "\u001b[1;36m2\u001b[0m            NEAR BAY  \n",
       "\u001b[1;36m3\u001b[0m            NEAR BAY  \n",
       "\u001b[1;36m4\u001b[0m            NEAR BAY  \n",
       "\u001b[33m...\u001b[0m               \u001b[33m...\u001b[0m  \n",
       "\u001b[1;36m20635\u001b[0m          INLAND  \n",
       "\u001b[1;36m20636\u001b[0m          INLAND  \n",
       "\u001b[1;36m20637\u001b[0m          INLAND  \n",
       "\u001b[1;36m20638\u001b[0m          INLAND  \n",
       "\u001b[1;36m20639\u001b[0m          INLAND  \n",
       "\n",
       "\u001b[1m[\u001b[0m\u001b[1;36m20640\u001b[0m rows x \u001b[1;36m10\u001b[0m columns\u001b[1m]\u001b[0m"
      ]
     },
     "execution_count": 4,
     "metadata": {},
     "output_type": "execute_result"
    }
   ],
   "source": [
    "housing"
   ]
  },
  {
   "cell_type": "code",
   "execution_count": 7,
   "id": "2f25b4ab-7663-425b-bf2e-86167b17b1db",
   "metadata": {},
   "outputs": [],
   "source": [
    "import pandas as pd"
   ]
  },
  {
   "cell_type": "code",
   "execution_count": 8,
   "id": "f094ae39-7b7e-4fa3-a178-54c0c6b8629f",
   "metadata": {},
   "outputs": [],
   "source": [
    "X_new = [-122.23, 37.88, 41.0, 880.0,\n",
    "         129.0, 322.0, 126.0, 8.3252, \"NEAR BAY\"]\n",
    "\n",
    "# Convertir X_new a un DataFrame con las columnas correspondientes\n",
    "columns = ['longitude', 'latitude', 'housing_median_age',\n",
    "           'total_rooms', 'total_bedrooms', 'population',\n",
    "           'households', 'median_income', 'ocean_proximity']\n",
    "X_new_df = pd.DataFrame([X_new], columns=columns)\n",
    "X_new_df.to_csv('new_data.csv')\n"
   ]
  },
  {
   "cell_type": "code",
   "execution_count": 10,
   "id": "ebbf84ca-4772-4a83-b89b-555a2a5df870",
   "metadata": {},
   "outputs": [],
   "source": [
    "X_new_df['median_house_value'] = 352100.0"
   ]
  },
  {
   "cell_type": "code",
   "execution_count": 15,
   "id": "59cea5ff-9d00-4bdf-b5ab-445b53cd5140",
   "metadata": {},
   "outputs": [],
   "source": [
    "X_new_df.to_csv('new_data.csv',index=False)"
   ]
  },
  {
   "cell_type": "code",
   "execution_count": 17,
   "id": "e05c86a5-b1ff-489e-b0e3-57a3f9214999",
   "metadata": {},
   "outputs": [
    {
     "data": {
      "text/html": [
       "<pre style=\"white-space:pre;overflow-x:auto;line-height:normal;font-family:Menlo,'DejaVu Sans Mono',consolas,'Courier New',monospace\"></pre>\n"
      ],
      "text/plain": []
     },
     "metadata": {},
     "output_type": "display_data"
    },
    {
     "data": {
      "text/plain": [
       "\n",
       "\u001b[1m[\u001b[0m\n",
       "    \u001b[32m'housing'\u001b[0m,\n",
       "    \u001b[32m'preprocessed_housing'\u001b[0m,\n",
       "    \u001b[32m'final_model'\u001b[0m,\n",
       "    \u001b[32m'metrics'\u001b[0m,\n",
       "    \u001b[32m'parameters'\u001b[0m,\n",
       "    \u001b[32m'params:model_options'\u001b[0m,\n",
       "    \u001b[32m'params:model_options.test_size'\u001b[0m,\n",
       "    \u001b[32m'params:model_options.random_state'\u001b[0m,\n",
       "    \u001b[32m'params:model_options.features'\u001b[0m\n",
       "\u001b[1m]\u001b[0m"
      ]
     },
     "execution_count": 17,
     "metadata": {},
     "output_type": "execute_result"
    }
   ],
   "source": [
    "catalog.list()"
   ]
  },
  {
   "cell_type": "code",
   "execution_count": 18,
   "id": "ce3947fe-ca9a-49b9-9cc6-0e9102dccaf0",
   "metadata": {},
   "outputs": [
    {
     "data": {
      "text/html": [
       "<pre style=\"white-space:pre;overflow-x:auto;line-height:normal;font-family:Menlo,'DejaVu Sans Mono',consolas,'Courier New',monospace\"><span style=\"color: #7fbfbf; text-decoration-color: #7fbfbf\">[07/11/24 04:55:27] </span><span style=\"color: #000080; text-decoration-color: #000080\">INFO    </span> Loading data from <span style=\"color: #ff8700; text-decoration-color: #ff8700\">final_model</span> <span style=\"font-weight: bold\">(</span>PickleDataset<span style=\"font-weight: bold\">)</span><span style=\"color: #808000; text-decoration-color: #808000\">...</span>                   <a href=\"file:///home/lucia/.conda/envs/kedro/lib/python3.11/site-packages/kedro/io/data_catalog.py\" target=\"_blank\"><span style=\"color: #7f7f7f; text-decoration-color: #7f7f7f\">data_catalog.py</span></a><span style=\"color: #7f7f7f; text-decoration-color: #7f7f7f\">:</span><a href=\"file:///home/lucia/.conda/envs/kedro/lib/python3.11/site-packages/kedro/io/data_catalog.py#508\" target=\"_blank\"><span style=\"color: #7f7f7f; text-decoration-color: #7f7f7f\">508</span></a>\n",
       "</pre>\n"
      ],
      "text/plain": [
       "\u001b[2;36m[07/11/24 04:55:27]\u001b[0m\u001b[2;36m \u001b[0m\u001b[34mINFO    \u001b[0m Loading data from \u001b[38;5;208mfinal_model\u001b[0m \u001b[1m(\u001b[0mPickleDataset\u001b[1m)\u001b[0m\u001b[33m...\u001b[0m                   \u001b]8;id=625037;file:///home/lucia/.conda/envs/kedro/lib/python3.11/site-packages/kedro/io/data_catalog.py\u001b\\\u001b[2mdata_catalog.py\u001b[0m\u001b]8;;\u001b\\\u001b[2m:\u001b[0m\u001b]8;id=652751;file:///home/lucia/.conda/envs/kedro/lib/python3.11/site-packages/kedro/io/data_catalog.py#508\u001b\\\u001b[2m508\u001b[0m\u001b]8;;\u001b\\\n"
      ]
     },
     "metadata": {},
     "output_type": "display_data"
    }
   ],
   "source": [
    "model = catalog.load('final_model')"
   ]
  },
  {
   "cell_type": "code",
   "execution_count": null,
   "id": "51e5165f-a00b-46b4-a48d-7f591632de45",
   "metadata": {},
   "outputs": [],
   "source": [
    "model.predict()"
   ]
  },
  {
   "cell_type": "code",
   "execution_count": 16,
   "id": "44c392d1-b085-4bdc-86f6-26ddc61124b4",
   "metadata": {},
   "outputs": [
    {
     "data": {
      "text/html": [
       "<pre style=\"white-space:pre;overflow-x:auto;line-height:normal;font-family:Menlo,'DejaVu Sans Mono',consolas,'Courier New',monospace\"></pre>\n"
      ],
      "text/plain": []
     },
     "metadata": {},
     "output_type": "display_data"
    },
    {
     "data": {
      "text/html": [
       "<div>\n",
       "<style scoped>\n",
       "    .dataframe tbody tr th:only-of-type {\n",
       "        vertical-align: middle;\n",
       "    }\n",
       "\n",
       "    .dataframe tbody tr th {\n",
       "        vertical-align: top;\n",
       "    }\n",
       "\n",
       "    .dataframe thead th {\n",
       "        text-align: right;\n",
       "    }\n",
       "</style>\n",
       "<table border=\"1\" class=\"dataframe\">\n",
       "  <thead>\n",
       "    <tr style=\"text-align: right;\">\n",
       "      <th></th>\n",
       "      <th>longitude</th>\n",
       "      <th>latitude</th>\n",
       "      <th>housing_median_age</th>\n",
       "      <th>total_rooms</th>\n",
       "      <th>total_bedrooms</th>\n",
       "      <th>population</th>\n",
       "      <th>households</th>\n",
       "      <th>median_income</th>\n",
       "      <th>ocean_proximity</th>\n",
       "      <th>median_house_value</th>\n",
       "    </tr>\n",
       "  </thead>\n",
       "  <tbody>\n",
       "    <tr>\n",
       "      <th>0</th>\n",
       "      <td>-122.23</td>\n",
       "      <td>37.88</td>\n",
       "      <td>41.0</td>\n",
       "      <td>880.0</td>\n",
       "      <td>129.0</td>\n",
       "      <td>322.0</td>\n",
       "      <td>126.0</td>\n",
       "      <td>8.3252</td>\n",
       "      <td>NEAR BAY</td>\n",
       "      <td>352100.0</td>\n",
       "    </tr>\n",
       "  </tbody>\n",
       "</table>\n",
       "</div>"
      ],
      "text/plain": [
       "\n",
       "   longitude  latitude  housing_median_age  total_rooms  total_bedrooms  \\\n",
       "\u001b[1;36m0\u001b[0m    \u001b[1;36m-122.23\u001b[0m     \u001b[1;36m37.88\u001b[0m                \u001b[1;36m41.0\u001b[0m        \u001b[1;36m880.0\u001b[0m           \u001b[1;36m129.0\u001b[0m   \n",
       "\n",
       "   population  households  median_income ocean_proximity  median_house_value  \n",
       "\u001b[1;36m0\u001b[0m       \u001b[1;36m322.0\u001b[0m       \u001b[1;36m126.0\u001b[0m         \u001b[1;36m8.3252\u001b[0m        NEAR BAY            \u001b[1;36m352100.0\u001b[0m  "
      ]
     },
     "execution_count": 16,
     "metadata": {},
     "output_type": "execute_result"
    }
   ],
   "source": [
    "pd.read_csv('new_data.csv')"
   ]
  },
  {
   "cell_type": "code",
   "execution_count": 5,
   "id": "6e0118d0-b033-4e53-90f3-0cc735c72bc4",
   "metadata": {},
   "outputs": [
    {
     "data": {
      "text/html": [
       "<pre style=\"white-space:pre;overflow-x:auto;line-height:normal;font-family:Menlo,'DejaVu Sans Mono',consolas,'Courier New',monospace\"><span style=\"color: #7fbfbf; text-decoration-color: #7fbfbf\">[07/10/24 15:35:49] </span><span style=\"color: #000080; text-decoration-color: #000080\">INFO    </span> Loading data from <span style=\"color: #ff8700; text-decoration-color: #ff8700\">preprocessed_housing</span> <span style=\"font-weight: bold\">(</span>CSVDataset<span style=\"font-weight: bold\">)</span><span style=\"color: #808000; text-decoration-color: #808000\">...</span>             <a href=\"file:///home/lucia/.conda/envs/kedro/lib/python3.11/site-packages/kedro/io/data_catalog.py\" target=\"_blank\"><span style=\"color: #7f7f7f; text-decoration-color: #7f7f7f\">data_catalog.py</span></a><span style=\"color: #7f7f7f; text-decoration-color: #7f7f7f\">:</span><a href=\"file:///home/lucia/.conda/envs/kedro/lib/python3.11/site-packages/kedro/io/data_catalog.py#508\" target=\"_blank\"><span style=\"color: #7f7f7f; text-decoration-color: #7f7f7f\">508</span></a>\n",
       "</pre>\n"
      ],
      "text/plain": [
       "\u001b[2;36m[07/10/24 15:35:49]\u001b[0m\u001b[2;36m \u001b[0m\u001b[34mINFO    \u001b[0m Loading data from \u001b[38;5;208mpreprocessed_housing\u001b[0m \u001b[1m(\u001b[0mCSVDataset\u001b[1m)\u001b[0m\u001b[33m...\u001b[0m             \u001b]8;id=355201;file:///home/lucia/.conda/envs/kedro/lib/python3.11/site-packages/kedro/io/data_catalog.py\u001b\\\u001b[2mdata_catalog.py\u001b[0m\u001b]8;;\u001b\\\u001b[2m:\u001b[0m\u001b]8;id=492367;file:///home/lucia/.conda/envs/kedro/lib/python3.11/site-packages/kedro/io/data_catalog.py#508\u001b\\\u001b[2m508\u001b[0m\u001b]8;;\u001b\\\n"
      ]
     },
     "metadata": {},
     "output_type": "display_data"
    },
    {
     "data": {
      "text/html": [
       "<pre style=\"white-space:pre;overflow-x:auto;line-height:normal;font-family:Menlo,'DejaVu Sans Mono',consolas,'Courier New',monospace\"></pre>\n"
      ],
      "text/plain": []
     },
     "metadata": {},
     "output_type": "display_data"
    },
    {
     "data": {
      "text/html": [
       "<div>\n",
       "<style scoped>\n",
       "    .dataframe tbody tr th:only-of-type {\n",
       "        vertical-align: middle;\n",
       "    }\n",
       "\n",
       "    .dataframe tbody tr th {\n",
       "        vertical-align: top;\n",
       "    }\n",
       "\n",
       "    .dataframe thead th {\n",
       "        text-align: right;\n",
       "    }\n",
       "</style>\n",
       "<table border=\"1\" class=\"dataframe\">\n",
       "  <thead>\n",
       "    <tr style=\"text-align: right;\">\n",
       "      <th></th>\n",
       "      <th>longitude</th>\n",
       "      <th>latitude</th>\n",
       "      <th>housing_median_age</th>\n",
       "      <th>total_rooms</th>\n",
       "      <th>total_bedrooms</th>\n",
       "      <th>population</th>\n",
       "      <th>households</th>\n",
       "      <th>median_income</th>\n",
       "      <th>median_house_value</th>\n",
       "      <th>ocean_proximity</th>\n",
       "    </tr>\n",
       "  </thead>\n",
       "  <tbody>\n",
       "    <tr>\n",
       "      <th>0</th>\n",
       "      <td>-122.23</td>\n",
       "      <td>37.88</td>\n",
       "      <td>41.0</td>\n",
       "      <td>880.0</td>\n",
       "      <td>129.0</td>\n",
       "      <td>322.0</td>\n",
       "      <td>126.0</td>\n",
       "      <td>8.3252</td>\n",
       "      <td>452600.0</td>\n",
       "      <td>NEAR BAY</td>\n",
       "    </tr>\n",
       "    <tr>\n",
       "      <th>1</th>\n",
       "      <td>-122.22</td>\n",
       "      <td>37.86</td>\n",
       "      <td>21.0</td>\n",
       "      <td>7099.0</td>\n",
       "      <td>1106.0</td>\n",
       "      <td>2401.0</td>\n",
       "      <td>1138.0</td>\n",
       "      <td>8.3014</td>\n",
       "      <td>358500.0</td>\n",
       "      <td>NEAR BAY</td>\n",
       "    </tr>\n",
       "    <tr>\n",
       "      <th>2</th>\n",
       "      <td>-122.24</td>\n",
       "      <td>37.85</td>\n",
       "      <td>52.0</td>\n",
       "      <td>1467.0</td>\n",
       "      <td>190.0</td>\n",
       "      <td>496.0</td>\n",
       "      <td>177.0</td>\n",
       "      <td>7.2574</td>\n",
       "      <td>352100.0</td>\n",
       "      <td>NEAR BAY</td>\n",
       "    </tr>\n",
       "    <tr>\n",
       "      <th>3</th>\n",
       "      <td>-122.25</td>\n",
       "      <td>37.85</td>\n",
       "      <td>52.0</td>\n",
       "      <td>1274.0</td>\n",
       "      <td>235.0</td>\n",
       "      <td>558.0</td>\n",
       "      <td>219.0</td>\n",
       "      <td>5.6431</td>\n",
       "      <td>341300.0</td>\n",
       "      <td>NEAR BAY</td>\n",
       "    </tr>\n",
       "    <tr>\n",
       "      <th>4</th>\n",
       "      <td>-122.25</td>\n",
       "      <td>37.85</td>\n",
       "      <td>52.0</td>\n",
       "      <td>1627.0</td>\n",
       "      <td>280.0</td>\n",
       "      <td>565.0</td>\n",
       "      <td>259.0</td>\n",
       "      <td>3.8462</td>\n",
       "      <td>342200.0</td>\n",
       "      <td>NEAR BAY</td>\n",
       "    </tr>\n",
       "    <tr>\n",
       "      <th>...</th>\n",
       "      <td>...</td>\n",
       "      <td>...</td>\n",
       "      <td>...</td>\n",
       "      <td>...</td>\n",
       "      <td>...</td>\n",
       "      <td>...</td>\n",
       "      <td>...</td>\n",
       "      <td>...</td>\n",
       "      <td>...</td>\n",
       "      <td>...</td>\n",
       "    </tr>\n",
       "    <tr>\n",
       "      <th>20635</th>\n",
       "      <td>-121.09</td>\n",
       "      <td>39.48</td>\n",
       "      <td>25.0</td>\n",
       "      <td>1665.0</td>\n",
       "      <td>374.0</td>\n",
       "      <td>845.0</td>\n",
       "      <td>330.0</td>\n",
       "      <td>1.5603</td>\n",
       "      <td>78100.0</td>\n",
       "      <td>INLAND</td>\n",
       "    </tr>\n",
       "    <tr>\n",
       "      <th>20636</th>\n",
       "      <td>-121.21</td>\n",
       "      <td>39.49</td>\n",
       "      <td>18.0</td>\n",
       "      <td>697.0</td>\n",
       "      <td>150.0</td>\n",
       "      <td>356.0</td>\n",
       "      <td>114.0</td>\n",
       "      <td>2.5568</td>\n",
       "      <td>77100.0</td>\n",
       "      <td>INLAND</td>\n",
       "    </tr>\n",
       "    <tr>\n",
       "      <th>20637</th>\n",
       "      <td>-121.22</td>\n",
       "      <td>39.43</td>\n",
       "      <td>17.0</td>\n",
       "      <td>2254.0</td>\n",
       "      <td>485.0</td>\n",
       "      <td>1007.0</td>\n",
       "      <td>433.0</td>\n",
       "      <td>1.7000</td>\n",
       "      <td>92300.0</td>\n",
       "      <td>INLAND</td>\n",
       "    </tr>\n",
       "    <tr>\n",
       "      <th>20638</th>\n",
       "      <td>-121.32</td>\n",
       "      <td>39.43</td>\n",
       "      <td>18.0</td>\n",
       "      <td>1860.0</td>\n",
       "      <td>409.0</td>\n",
       "      <td>741.0</td>\n",
       "      <td>349.0</td>\n",
       "      <td>1.8672</td>\n",
       "      <td>84700.0</td>\n",
       "      <td>INLAND</td>\n",
       "    </tr>\n",
       "    <tr>\n",
       "      <th>20639</th>\n",
       "      <td>-121.24</td>\n",
       "      <td>39.37</td>\n",
       "      <td>16.0</td>\n",
       "      <td>2785.0</td>\n",
       "      <td>616.0</td>\n",
       "      <td>1387.0</td>\n",
       "      <td>530.0</td>\n",
       "      <td>2.3886</td>\n",
       "      <td>89400.0</td>\n",
       "      <td>INLAND</td>\n",
       "    </tr>\n",
       "  </tbody>\n",
       "</table>\n",
       "<p>20640 rows × 10 columns</p>\n",
       "</div>"
      ],
      "text/plain": [
       "\n",
       "       longitude  latitude  housing_median_age  total_rooms  total_bedrooms  \\\n",
       "\u001b[1;36m0\u001b[0m        \u001b[1;36m-122.23\u001b[0m     \u001b[1;36m37.88\u001b[0m                \u001b[1;36m41.0\u001b[0m        \u001b[1;36m880.0\u001b[0m           \u001b[1;36m129.0\u001b[0m   \n",
       "\u001b[1;36m1\u001b[0m        \u001b[1;36m-122.22\u001b[0m     \u001b[1;36m37.86\u001b[0m                \u001b[1;36m21.0\u001b[0m       \u001b[1;36m7099.0\u001b[0m          \u001b[1;36m1106.0\u001b[0m   \n",
       "\u001b[1;36m2\u001b[0m        \u001b[1;36m-122.24\u001b[0m     \u001b[1;36m37.85\u001b[0m                \u001b[1;36m52.0\u001b[0m       \u001b[1;36m1467.0\u001b[0m           \u001b[1;36m190.0\u001b[0m   \n",
       "\u001b[1;36m3\u001b[0m        \u001b[1;36m-122.25\u001b[0m     \u001b[1;36m37.85\u001b[0m                \u001b[1;36m52.0\u001b[0m       \u001b[1;36m1274.0\u001b[0m           \u001b[1;36m235.0\u001b[0m   \n",
       "\u001b[1;36m4\u001b[0m        \u001b[1;36m-122.25\u001b[0m     \u001b[1;36m37.85\u001b[0m                \u001b[1;36m52.0\u001b[0m       \u001b[1;36m1627.0\u001b[0m           \u001b[1;36m280.0\u001b[0m   \n",
       "\u001b[33m...\u001b[0m          \u001b[33m...\u001b[0m       \u001b[33m...\u001b[0m                 \u001b[33m...\u001b[0m          \u001b[33m...\u001b[0m             \u001b[33m...\u001b[0m   \n",
       "\u001b[1;36m20635\u001b[0m    \u001b[1;36m-121.09\u001b[0m     \u001b[1;36m39.48\u001b[0m                \u001b[1;36m25.0\u001b[0m       \u001b[1;36m1665.0\u001b[0m           \u001b[1;36m374.0\u001b[0m   \n",
       "\u001b[1;36m20636\u001b[0m    \u001b[1;36m-121.21\u001b[0m     \u001b[1;36m39.49\u001b[0m                \u001b[1;36m18.0\u001b[0m        \u001b[1;36m697.0\u001b[0m           \u001b[1;36m150.0\u001b[0m   \n",
       "\u001b[1;36m20637\u001b[0m    \u001b[1;36m-121.22\u001b[0m     \u001b[1;36m39.43\u001b[0m                \u001b[1;36m17.0\u001b[0m       \u001b[1;36m2254.0\u001b[0m           \u001b[1;36m485.0\u001b[0m   \n",
       "\u001b[1;36m20638\u001b[0m    \u001b[1;36m-121.32\u001b[0m     \u001b[1;36m39.43\u001b[0m                \u001b[1;36m18.0\u001b[0m       \u001b[1;36m1860.0\u001b[0m           \u001b[1;36m409.0\u001b[0m   \n",
       "\u001b[1;36m20639\u001b[0m    \u001b[1;36m-121.24\u001b[0m     \u001b[1;36m39.37\u001b[0m                \u001b[1;36m16.0\u001b[0m       \u001b[1;36m2785.0\u001b[0m           \u001b[1;36m616.0\u001b[0m   \n",
       "\n",
       "       population  households  median_income  median_house_value  \\\n",
       "\u001b[1;36m0\u001b[0m           \u001b[1;36m322.0\u001b[0m       \u001b[1;36m126.0\u001b[0m         \u001b[1;36m8.3252\u001b[0m            \u001b[1;36m452600.0\u001b[0m   \n",
       "\u001b[1;36m1\u001b[0m          \u001b[1;36m2401.0\u001b[0m      \u001b[1;36m1138.0\u001b[0m         \u001b[1;36m8.3014\u001b[0m            \u001b[1;36m358500.0\u001b[0m   \n",
       "\u001b[1;36m2\u001b[0m           \u001b[1;36m496.0\u001b[0m       \u001b[1;36m177.0\u001b[0m         \u001b[1;36m7.2574\u001b[0m            \u001b[1;36m352100.0\u001b[0m   \n",
       "\u001b[1;36m3\u001b[0m           \u001b[1;36m558.0\u001b[0m       \u001b[1;36m219.0\u001b[0m         \u001b[1;36m5.6431\u001b[0m            \u001b[1;36m341300.0\u001b[0m   \n",
       "\u001b[1;36m4\u001b[0m           \u001b[1;36m565.0\u001b[0m       \u001b[1;36m259.0\u001b[0m         \u001b[1;36m3.8462\u001b[0m            \u001b[1;36m342200.0\u001b[0m   \n",
       "\u001b[33m...\u001b[0m           \u001b[33m...\u001b[0m         \u001b[33m...\u001b[0m            \u001b[33m...\u001b[0m                 \u001b[33m...\u001b[0m   \n",
       "\u001b[1;36m20635\u001b[0m       \u001b[1;36m845.0\u001b[0m       \u001b[1;36m330.0\u001b[0m         \u001b[1;36m1.5603\u001b[0m             \u001b[1;36m78100.0\u001b[0m   \n",
       "\u001b[1;36m20636\u001b[0m       \u001b[1;36m356.0\u001b[0m       \u001b[1;36m114.0\u001b[0m         \u001b[1;36m2.5568\u001b[0m             \u001b[1;36m77100.0\u001b[0m   \n",
       "\u001b[1;36m20637\u001b[0m      \u001b[1;36m1007.0\u001b[0m       \u001b[1;36m433.0\u001b[0m         \u001b[1;36m1.7000\u001b[0m             \u001b[1;36m92300.0\u001b[0m   \n",
       "\u001b[1;36m20638\u001b[0m       \u001b[1;36m741.0\u001b[0m       \u001b[1;36m349.0\u001b[0m         \u001b[1;36m1.8672\u001b[0m             \u001b[1;36m84700.0\u001b[0m   \n",
       "\u001b[1;36m20639\u001b[0m      \u001b[1;36m1387.0\u001b[0m       \u001b[1;36m530.0\u001b[0m         \u001b[1;36m2.3886\u001b[0m             \u001b[1;36m89400.0\u001b[0m   \n",
       "\n",
       "      ocean_proximity  \n",
       "\u001b[1;36m0\u001b[0m            NEAR BAY  \n",
       "\u001b[1;36m1\u001b[0m            NEAR BAY  \n",
       "\u001b[1;36m2\u001b[0m            NEAR BAY  \n",
       "\u001b[1;36m3\u001b[0m            NEAR BAY  \n",
       "\u001b[1;36m4\u001b[0m            NEAR BAY  \n",
       "\u001b[33m...\u001b[0m               \u001b[33m...\u001b[0m  \n",
       "\u001b[1;36m20635\u001b[0m          INLAND  \n",
       "\u001b[1;36m20636\u001b[0m          INLAND  \n",
       "\u001b[1;36m20637\u001b[0m          INLAND  \n",
       "\u001b[1;36m20638\u001b[0m          INLAND  \n",
       "\u001b[1;36m20639\u001b[0m          INLAND  \n",
       "\n",
       "\u001b[1m[\u001b[0m\u001b[1;36m20640\u001b[0m rows x \u001b[1;36m10\u001b[0m columns\u001b[1m]\u001b[0m"
      ]
     },
     "execution_count": 5,
     "metadata": {},
     "output_type": "execute_result"
    }
   ],
   "source": [
    "catalog.load('preprocessed_housing')"
   ]
  },
  {
   "cell_type": "code",
   "execution_count": null,
   "id": "7b27ebdb-301b-4df9-afcc-fad8f2d26b55",
   "metadata": {},
   "outputs": [],
   "source": []
  },
  {
   "cell_type": "code",
   "execution_count": null,
   "id": "d5231d02-0369-44e4-8fbf-8b2dcd139891",
   "metadata": {},
   "outputs": [],
   "source": []
  }
 ],
 "metadata": {
  "kernelspec": {
   "display_name": "Kedro (housing)",
   "language": "python",
   "name": "kedro_housing"
  },
  "language_info": {
   "codemirror_mode": {
    "name": "ipython",
    "version": 3
   },
   "file_extension": ".py",
   "mimetype": "text/x-python",
   "name": "python",
   "nbconvert_exporter": "python",
   "pygments_lexer": "ipython3",
   "version": "3.11.9"
  }
 },
 "nbformat": 4,
 "nbformat_minor": 5
}
